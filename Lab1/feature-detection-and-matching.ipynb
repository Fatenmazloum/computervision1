{
 "cells": [
  {
   "cell_type": "markdown",
   "metadata": {},
   "source": [
    "Main component in feature detection and matching(we have two pictures of car but one is rotated):\n",
    "1. Keypoint(Interest point) (Detect important point in both images like edge ...can be used for matching)\n",
    "2. Orientation Assignment: Assign orientations to the keypoints to ensure the descriptors are rotation-invariant.\n",
    "3. Descriptor:Once keypoints are detected, we create a descriptor for each keypoint. A descriptor is like a digital fingerprint of the area around the keypoint.\n",
    "4. Matching(find the same keypoint in both images,despite the rotation),(Compare the descriptors from the two images. If descriptors are similar, the keypoints are considered a match).\n",
    "\n",
    "Descriptive algorithms: ORB,BRISK,SIFT\n",
    "\n",
    "Descriptor is unique to each keypoint in an image. It represents the distinctive features around a keypoint (like texture, edges, or color), so even if the image changes (e.g., rotated)(this can be done using orientation assignment proces before descriptors), the descriptor will still be able to identify the keypoint."
   ]
  },
  {
   "cell_type": "markdown",
   "metadata": {},
   "source": [
    "Feature means caharacteristic of an image(mayyizat):\n",
    "1. keypoint features \n",
    "2. Edge features\n"
   ]
  }
 ],
 "metadata": {
  "language_info": {
   "name": "python"
  }
 },
 "nbformat": 4,
 "nbformat_minor": 2
}
