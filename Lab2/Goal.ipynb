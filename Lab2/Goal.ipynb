{
 "cells": [
  {
   "cell_type": "markdown",
   "id": "fe29e01f",
   "metadata": {},
   "source": [
    "Given two images that are visually the same but one might be rotated, detect if they're the same and rotate one to match the other.\n",
    "\n",
    "1. Convert both images to grayscale\n",
    "Feature detection works better in grayscale.\n",
    "\n",
    "2. Detect keypoints and compute descriptors using ORB\n",
    "ORB is rotation-invariant, so it finds the same features even if one image is rotated.\n",
    "\n",
    "ORB assigns an orientation to each keypoint.\n",
    "\n",
    "ORB computes a binary descriptor for each keypoint.\n",
    "\n",
    "3. Match descriptors using Hamming Distance\n",
    "\n",
    "Hamming distance compares binary descriptors.\n",
    "\n",
    "Smaller distance = more similar.\n",
    "\n",
    "You match keypoints from image 1 to image 2 using this distance.\n",
    "\n",
    "4. Filter the best matches\n",
    "\n",
    "You only keep strong matches (e.g. lowest distances).\n",
    "\n",
    "These good matches help establish correspondence between images.\n",
    "\n",
    "5. Find the Homography matrix\n",
    "\n",
    "Using matched keypoints, calculate the homography matrix (transformation).\n",
    "\n",
    "This matrix can rotate, scale, and translate the second image to align with the first.\n",
    "\n",
    "6. Warp the second image using the homography\n",
    "\n",
    "You apply the transformation to rotate/align image 2 so it matches image 1."
   ]
  }
 ],
 "metadata": {
  "language_info": {
   "name": "python"
  }
 },
 "nbformat": 4,
 "nbformat_minor": 5
}
